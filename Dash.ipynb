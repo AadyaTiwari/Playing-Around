{
 "cells": [
  {
   "cell_type": "code",
   "execution_count": 2,
   "metadata": {},
   "outputs": [],
   "source": [
    "import dash\n",
    "from dash import dcc\n",
    "import dash_html_components as html\n"
   ]
  },
  {
   "cell_type": "code",
   "execution_count": null,
   "metadata": {},
   "outputs": [],
   "source": [
    "app = dash.Dash(__name__)\n",
    "app.layout = html.Div(\n",
    "    children = [\n",
    "        html.H1(\"My Dashboard\"),\n",
    "        dcc.Graph(\n",
    "            id = \"My-Graph\",\n",
    "            figure = {\n",
    "                \"data\": [\"\"]\n",
    "            }\n",
    "        )\n",
    "    ]\n",
    ")\n",
    "#https://www.youtube.com/watch?v=cZ229GTnWkY"
   ]
  }
 ],
 "metadata": {
  "kernelspec": {
   "display_name": "Python 3",
   "language": "python",
   "name": "python3"
  },
  "language_info": {
   "codemirror_mode": {
    "name": "ipython",
    "version": 3
   },
   "file_extension": ".py",
   "mimetype": "text/x-python",
   "name": "python",
   "nbconvert_exporter": "python",
   "pygments_lexer": "ipython3",
   "version": "3.10.13"
  }
 },
 "nbformat": 4,
 "nbformat_minor": 2
}
